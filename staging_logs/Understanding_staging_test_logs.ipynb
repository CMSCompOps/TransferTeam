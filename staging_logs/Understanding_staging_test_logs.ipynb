{
 "cells": [
  {
   "cell_type": "code",
   "execution_count": 1,
   "metadata": {
    "collapsed": true
   },
   "outputs": [],
   "source": [
    "from urllib2 import Request, urlopen\n",
    "import ssl\n",
    "import json\n",
    "import pandas as pd\n",
    "import plotly.plotly as py\n",
    "import cufflinks as cf\n",
    "from pandas.io.json import json_normalize\n",
    "import requests\n",
    "from requests.packages.urllib3.exceptions import InsecureRequestWarning\n",
    "import re\n",
    "import os\n",
    "from datetime import datetime"
   ]
  },
  {
   "cell_type": "code",
   "execution_count": 2,
   "metadata": {
    "collapsed": true
   },
   "outputs": [],
   "source": [
    "#Silent warnings of insecure request from requests library\n",
    "requests.packages.urllib3.disable_warnings(InsecureRequestWarning)\n",
    "pd.options.mode.chained_assignment = None  # default='warn'"
   ]
  },
  {
   "cell_type": "code",
   "execution_count": 3,
   "metadata": {
    "collapsed": true
   },
   "outputs": [],
   "source": [
    "site = 'T1_US_FNAL_Buffer'\n",
    "datasets = [\n",
    "    '/TT_TuneCUETP8M2T4_mtop1735_13TeV-powheg-pythia8/RunIISummer15wmLHEGS-MCRUN2_71_V1-v1/GEN-SIM',\n",
    "    '/QCD_Pt-15to3000_TuneCUETP8M1_Flat_13TeV-pythia8/RunIISummer15GS-castor_MCRUN2_71_V1-v1/GEN-SIM',\n",
    "    '/TT_TuneCUETP8M2T4_13TeV-powheg-pythia8-evtgen/RunIISummer15wmLHEGS-MCRUN2_71_V1-v1/GEN-SIM',\n",
    "    '/TTJets_DiLept_genMET-150_TuneCUETP8M1_13TeV-madgraphMLM-pythia8/RunIISummer15wmLHEGS-MCRUN2_71_V1-v1/GEN-SIM',\n",
    "    '/TTZToLLNuNu_M-10_TuneCUETP8M1_13TeV-amcatnlo-pythia8/RunIISummer15wmLHEGS-MCRUN2_71_V1_ext2-v1/GEN-SIM',\n",
    "    '/ZH_HToBB_ZToNuNu_M125_13TeV_powheg_pythia8/PhaseIFall16wmLHEGS-81X_upgrade2017_realistic_v26-v1/GEN-SIM',\n",
    "    '/WJetsToLNu_Wpt-200toInf_TuneCUETP8M1_13TeV-madgraphMLM-pythia8/RunIISummer15wmLHEGS-MCRUN2_71_V1_ext1-v1/GEN-SIM',\n",
    "    '/DYJetsToLL_Zpt-200toInf_M-50_TuneCUETP8M1_13TeV-madgraphMLM-pythia8/RunIISummer15wmLHEGS-MCRUN2_71_V1_ext1-v1/GEN-SIM',\n",
    "    '/TTGamma_Dilept_TuneCUETP8M2T4_13TeV-amcatnlo-pythia8/RunIISummer15wmLHEGS-MCRUN2_71_V1-v2/GEN-SIM',\n",
    "    '/TTGamma_SingleLeptFromTbar_TuneCUETP8M2T4_13TeV-amcatnlo-fsrdown-pythia8-pythia8/RunIISummer15wmLHEGS-MCRUN2_71_V1-v1/GEN-SIM',\n",
    "    '/TT_widthx4_TuneCUETP8M1_13TeV-powheg-pythia8/RunIISummer15wmLHEGS-MCRUN2_71_V1-v1/GEN-SIM',\n",
    "    '/TTTo2L2Nu_noSC_TuneCUETP8M1_alphaS01273_13TeV-powheg-pythia8/RunIISummer15GS-MCRUN2_71_V1-v1/GEN-SIM',\n",
    "    '/ttH_M125_13TeV_powheg_pythia8/RunIISummer15GS-MCRUN2_71_V1-v1/GEN-SIM',\n",
    "    '/GJets_DR-0p4_HT-600ToInf_TuneCUETP8M1_13TeV-madgraphMLM-pythia8/RunIISummer15GS-magnetOffBS0T_MCRUN2_71_V1-v1/GEN-SIM',\n",
    "    '/TT_TuneCUETP8M1_mtop1785_13TeV-powheg-pythia8/RunIISummer15GS-MCRUN2_71_V1-v1/GEN-SIM',\n",
    "    '/DY1JetsToLL_M-10to50_TuneCUETP8M1_13TeV-amcatnloFXFX-pythia8/RunIISummer15GS-MCRUN2_71_V1-v1/GEN-SIM',\n",
    "    '/ttHJetTobb_M125_13TeV_amcatnloFXFX_madspin_pythia8/RunIISummer15GS-MCRUN2_71_V1_ext3-v1/GEN-SIM',\n",
    "    '/ST_t-channel_4f_mtop1755_leptonDecays_13TeV-amcatnlo-pythia8_TuneCUETP8M1/RunIISummer15GS-MCRUN2_71_V1-v1/GEN-SIM',\n",
    "    '/MuMuG_PTG10To13000_MMuMu50_13TeV_sherpa/RunIISummer15GS-MCRUN2_71_V1-v2/GEN-SIM',\n",
    "    '/GJets_DR-0p4_HT-600ToInf_TuneCUETP8M1_13TeV-madgraphMLM-pythia8/RunIISummer15GS-magnetOffBS0T_MCRUN2_71_V1-v1/GEN-SIM',\n",
    "    '/WplusToENu_NNPDF30_TuneEE5C_13TeV-powheg-herwigpp/RunIISummer15wmLHEGS-MCRUN2_71_V1-v2/GEN-SIM',\n",
    "    '/ST_FCNC-TA_Tleptonic_kappa_act-MadGraph5-pythia8/RunIISummer15wmLHEGS-MCRUN2_71_V1-v1/GEN-SIM',\n",
    "    '/ST_tW_antitop_5f_NoFullyHadronicDecays_13TeV-powheg_TuneCUETP8M1/RunIISummer15wmLHEGS-MCRUN2_71_V1_ext1-v1/GEN-SIM',\n",
    "    '/QCD_Pt_1000to1400_TuneCUETP8M1_13TeV_pythia8/PhaseIFall16GS-81X_upgrade2017_realistic_v26-v1/GEN-SIM',\n",
    "    '/Vector_MonoTop_NLO_Mphi-200_Mchi-10_gSM-0p25_gDM-1p0_13TeV-madgraph/RunIISummer15wmLHEGS-MCRUN2_71_V1-v1/GEN-SIM',\n",
    "    '/Vector_MonoTop_NLO_Mphi-2500_Mchi-500_gSM-0p25_gDM-1p0_13TeV-madgraph/RunIISummer15wmLHEGS-MCRUN2_71_V1-v1/GEN-SIM',\n",
    "    '/WGToLNuG_PtG-500_TuneCUETP8M1_13TeV-amcatnloFXFX-pythia8/RunIISummer15wmLHEGS-MCRUN2_71_V1-v1/GEN-SIM',\n",
    "    '/ZBJetsToNuNu_Zpt-200toInf_TuneCUETP8M1_13TeV-madgraphMLM-pythia8/RunIISummer15wmLHEGS-MCRUN2_71_V1_ext1-v1/GEN-SIM',\n",
    "    '/BprimeBprime_M-1000_TuneCUETP8M1_13TeV-madgraph-pythia8/RunIISummer15GS-MCRUN2_71_V1-v1/GEN-SIM',\n",
    "    '/ST_t-channel_antitop_4f_leptonDecays_13TeV-powheg-pythia8_TuneCUETP8M1/RunIISummer15GS-MCRUN2_71_V1-v1/GEN-SIM',\n",
    "    '/ggZH_HToBB_ZToNuNu_M125_13TeV_powheg_pythia8/RunIISummer15GS-MCRUN2_71_V1_ext2-v1/GEN-SIM'\n",
    "    ]\n",
    "\n",
    "log_file = \"/Users/davidurbina/Documents/stage_tests_logs/logs/T1_US_FNAL/Prod_T1_US_FNAL_Buffer/logs/mss-stage-local_littleEdit\"\n",
    "start_date = '2017-03-21 00:00:00'\n",
    "end_date = '2017-05-02 00:00:00'\n",
    "#'''\n"
   ]
  },
  {
   "cell_type": "code",
   "execution_count": 4,
   "metadata": {
    "collapsed": true
   },
   "outputs": [],
   "source": [
    "def get_files(site, dataset):\n",
    "    url = 'https://cmsweb.cern.ch/phedex/datasvc/json/prod/filereplicas'\n",
    "    params = {\"node\": site, \"dataset\": dataset}\n",
    "    replicas_info = requests.get(url=url, params= params, verify=False).content\n",
    "    replicas_json = json.loads(replicas_info)\n",
    "    blocks_level_table = json_normalize(replicas_json['phedex']['block'])\n",
    "\n",
    "    replicas_table = pd.DataFrame()\n",
    "    for i in range(len(blocks_level_table)):\n",
    "        replicas_info = json_normalize(replicas_json['phedex']['block'][i]['file'])\n",
    "        replicas_table = replicas_table.append(replicas_info)\n",
    "    return replicas_table\n",
    "\n",
    "def clean_files_names (name):\n",
    "    match = re.search('(/store/.+$)', name)\n",
    "    if match:\n",
    "        clean_name = match.group(1)\n",
    "    else:\n",
    "        print \"warning file \" + name + \" not in /store/ path\"\n",
    "        clean_name = name\n",
    "    return clean_name\n",
    "\n",
    "def parse_executing (files_str):\n",
    "    match = re.search('Executing with timeout \\d+ (.+$)', files_str)\n",
    "    if match:\n",
    "        files_list = match.group(1).split(\" \")\n",
    "        files_list = files_list[1:]\n",
    "        files_list = [clean_files_names(x) for x in files_list]\n",
    "    return files_list\n",
    "\n",
    "def parse_staged (action_str):\n",
    "    match = re.search('^([^ ]+) STAGED', action_str)\n",
    "    if match:\n",
    "        file_name = clean_files_names( match.group(1) )\n",
    "    else:\n",
    "        print \"Warning: wear STAGED line: \" + action_str\n",
    "        file_name = action_str\n",
    "    return file_name\n",
    "\n",
    "def num_files_executing (files_str):\n",
    "    return len(parse_executing (files_str))\n",
    "\n",
    "def files_from_test (files_str, files_test_set):\n",
    "    files_list = parse_executing(files_str)\n",
    "    return list(files_test_set & set(files_list))\n",
    "\n",
    "def file_from_test (file_str, files_test_set):\n",
    "      return int(file_str in files_test_set)\n",
    "\n",
    "\n",
    "def num_files_from_test (files_str, files_test_set):\n",
    "    files_test = files_from_test (files_str, files_test_set)\n",
    "    return len(files_test)\n",
    "\n",
    "def dataset_from_file(filename):\n",
    "    if re.search('^/store/(mc|relval)', filename):\n",
    "        filename_fields =  filename.split(\"/\")[3:-2]\n",
    "        filename_fields = [filename_fields[1], filename_fields[0] + '-' + filename_fields[3], filename_fields[2]]\n",
    "\n",
    "    elif re.search('^/store/data', filename):\n",
    "        filename_fields = filename.split(\"/\")\n",
    "        #print filename +  \": \" + str(len(filename.split(\"/\")))\n",
    "        if (len(filename_fields) == 12):\n",
    "            filename_fields =  filename_fields[3:-5]\n",
    "            filename_fields = [filename_fields[1], filename_fields[0] + '-' + filename_fields[3], filename_fields[2]]\n",
    "        elif(len(filename_fields) == 11):\n",
    "            filename_fields =  filename_fields[3:-4]\n",
    "            filename_fields = [filename_fields[1], filename_fields[0] + '-' + filename_fields[3], filename_fields[2]]\n",
    "        elif (len(filename_fields) == 9):\n",
    "            filename_fields =  filename_fields[3:-2]\n",
    "            filename_fields = [filename_fields[1], filename_fields[0] + '-' + filename_fields[3], filename_fields[2]]\n",
    "        else:\n",
    "            print \"Warning, file: \" + filename + \" has a not expected number of fields \" + str(len(filename_fields))\n",
    "\n",
    "    elif re.search('^/store/results', filename):\n",
    "        filename_fields =  filename.split(\"/\")[4:-3]\n",
    "        filename_fields = [filename_fields[0], filename_fields[1] , filename_fields[-1]]\n",
    "\n",
    "    else:\n",
    "        print \"Warning, filename: \" + filename + \" is not belongs to data or mc\"\n",
    "        return None\n",
    "    dataset = '/' + '/'.join(filename_fields)\n",
    "    return dataset"
   ]
  },
  {
   "cell_type": "code",
   "execution_count": 5,
   "metadata": {},
   "outputs": [],
   "source": [
    "files_test = []\n",
    "for dataset in datasets:\n",
    "    replicas_table = get_files(site, dataset)\n",
    "    file_names = replicas_table['name'].tolist()\n",
    "    for f in file_names:\n",
    "        files_test.append(f)\n",
    "files_test_set = set(files_test)\n",
    "\n",
    "start_date = datetime.strptime(start_date,'%Y-%m-%d %H:%M:%S')\n",
    "end_date = datetime.strptime(end_date,'%Y-%m-%d %H:%M:%S')\n",
    "\n",
    "\n",
    "with open(log_file) as f:\n",
    "    data = f.readlines()\n",
    "\n",
    "count = 0\n",
    "df_count =  0\n",
    "dfs_list = []\n",
    "df_tmp = pd.DataFrame(index= range(0, 1000), columns=['datetime', 'fileStager_ID', 'action'])\n",
    "for line in data:\n",
    "    match = re.search('(^\\d+-\\d+-\\d+ \\d+:\\d+:\\d+): FileStager\\[(\\d+)\\]: (.+$)', line)\n",
    "    if match:\n",
    "        datetime_field = match.group(1)\n",
    "        datetime4compare = datetime.strptime(datetime_field,'%Y-%m-%d %H:%M:%S')\n",
    "        filestagerID_field = match.group(2)\n",
    "        action_field = match.group(3)\n",
    "    #This section asumes that the log is sorted by datetime\n",
    "    if (datetime4compare < start_date):\n",
    "        continue\n",
    "    elif (datetime4compare > end_date):\n",
    "        break\n",
    "    else:\n",
    "        if (count%1000 == 0 and count != 0):\n",
    "            dfs_list.append(df_tmp)\n",
    "            df_count += 1\n",
    "            df_tmp = pd.DataFrame(index=range(count,count+1000), columns=['datetime', 'fileStager_ID', 'action'])\n",
    "\n",
    "        df_tmp.loc[count] = [datetime_field, filestagerID_field, action_field]\n",
    "        #print str(count) + \"\\r\",\n",
    "        count += 1\n",
    "        if count == len(data):\n",
    "            dfs_list.append(df_tmp.dropna())\n",
    "\n",
    "\n",
    "data_df = pd.concat(dfs_list)\n",
    "data_df['datetime'] = pd.to_datetime(data_df['datetime'])\n"
   ]
  },
  {
   "cell_type": "code",
   "execution_count": 7,
   "metadata": {},
   "outputs": [],
   "source": [
    "#Executing events\n",
    "executing_df = data_df[data_df['action'].str.contains(\"Executing\")]\n",
    "executing_df['count'] = executing_df['action'].apply(num_files_executing)\n",
    "executing_df['count_test'] = executing_df['action'].apply(num_files_from_test,files_test_set = files_test_set)\n",
    "executing_df['count_others'] = executing_df['count'] - executing_df['count_test']\n",
    "\n",
    "executing_df['files_list'] = executing_df['action'].apply(parse_executing)\n",
    "files_series = executing_df.apply(lambda x: pd.Series(x['files_list']),axis=1).stack().reset_index(level=1, drop=True)\n",
    "files_series.name = 'file'\n",
    "executing_df_info_by_file = executing_df[['datetime', 'fileStager_ID']].join(files_series)\n",
    "executing_df_info_by_file['dataset'] =  executing_df_info_by_file['file'].apply(dataset_from_file)\n",
    "executing_df_info_by_file['count_test'] = executing_df_info_by_file['file'].apply(file_from_test, files_test_set=files_test_set)\n",
    "executing_df_info_by_file_test_only = executing_df_info_by_file[executing_df_info_by_file['count_test'] > 0]\n",
    "executing_df_info_by_file_test_only.index = range(0,len(executing_df_info_by_file_test_only))\n",
    "executing_df_info_by_file_test_only_pivot = executing_df_info_by_file_test_only.pivot(columns='dataset', values='count_test')\n",
    "executing_df_info_by_file_test_only_pivot['datetime'] = executing_df_info_by_file_test_only['datetime']\n",
    "\n",
    "datasets_rename = range(1,len(executing_df_info_by_file_test_only_pivot.columns))\n",
    "datasets_rename= [str(x) for x in datasets_rename]\n",
    "datasets_rename.append('datetime')\n",
    "datasets_rename\n",
    "executing_df_info_by_file_test_only_pivot.columns = datasets_rename\n",
    "executing_df_info_by_file_test_only_pivot_indexed = executing_df_info_by_file_test_only_pivot.groupby('datetime')[datasets_rename[:-1]].sum()\n",
    "executing_df_info_by_file_test_only_pivot_indexed_minutes = executing_df_info_by_file_test_only_pivot_indexed.resample(\"1Min\").sum().dropna(how='all')\n",
    "executing_df_info_by_file_test_only_pivot_indexed_hours = executing_df_info_by_file_test_only_pivot_indexed.resample(\"1H\").sum().dropna(how='all')\n"
   ]
  },
  {
   "cell_type": "code",
   "execution_count": 8,
   "metadata": {},
   "outputs": [
    {
     "data": {
      "text/html": [
       "<iframe id=\"igraph\" scrolling=\"no\" style=\"border:none;\" seamless=\"seamless\" src=\"https://plot.ly/~daugo/52.embed\" height=\"525px\" width=\"100%\"></iframe>"
      ],
      "text/plain": [
       "<plotly.tools.PlotlyDisplay object>"
      ]
     },
     "execution_count": 8,
     "metadata": {},
     "output_type": "execute_result"
    }
   ],
   "source": [
    "executing_df_info_by_file_test_only_pivot_indexed_minutes.iplot(kind='scatter', filename = \"executing_scatter_perDatasets_minutes_\" + site, xTitle = \"date-time\", yTitle = \"Number of files\", title = \"Executing action for \" + site + \" (grouped by minutes for each test dataset [bin size = 1 Min] )\" )"
   ]
  },
  {
   "cell_type": "code",
   "execution_count": 9,
   "metadata": {},
   "outputs": [
    {
     "data": {
      "text/html": [
       "<iframe id=\"igraph\" scrolling=\"no\" style=\"border:none;\" seamless=\"seamless\" src=\"https://plot.ly/~daugo/54.embed\" height=\"525px\" width=\"100%\"></iframe>"
      ],
      "text/plain": [
       "<plotly.tools.PlotlyDisplay object>"
      ]
     },
     "execution_count": 9,
     "metadata": {},
     "output_type": "execute_result"
    }
   ],
   "source": [
    "executing_df_info_by_file_test_only_pivot_indexed_hours.iplot(kind='scatter', filename = \"executing_scatter_perDatasets_hours_\" + site, xTitle = \"date-time\", yTitle = \"Number of files\", title = \"Executing action for \" + site + \" (grouped by hours for each test dataset [bin size = 1Hr] )\" )\n"
   ]
  },
  {
   "cell_type": "code",
   "execution_count": 10,
   "metadata": {},
   "outputs": [
    {
     "name": "stdout",
     "output_type": "stream",
     "text": [
      "1        68\n",
      "2      1950\n",
      "3       711\n",
      "4      7128\n",
      "5      2602\n",
      "6      2574\n",
      "7      1370\n",
      "8      1553\n",
      "9      1465\n",
      "10     1211\n",
      "11     1255\n",
      "12      799\n",
      "13      585\n",
      "14      523\n",
      "15      604\n",
      "16      524\n",
      "17      656\n",
      "18      387\n",
      "19      450\n",
      "20      358\n",
      "21      249\n",
      "22      518\n",
      "23      609\n",
      "24      220\n",
      "25      270\n",
      "26      120\n",
      "27      159\n",
      "28      432\n",
      "29      299\n",
      "30      398\n",
      "31      233\n",
      "32      216\n",
      "33      253\n",
      "34      312\n",
      "35      139\n",
      "36      121\n",
      "37      172\n",
      "38      120\n",
      "39      129\n",
      "40       79\n",
      "41       57\n",
      "42       34\n",
      "43       22\n",
      "44       32\n",
      "45      133\n",
      "46       24\n",
      "47       56\n",
      "48       55\n",
      "49       18\n",
      "50      103\n",
      "51       43\n",
      "52      106\n",
      "53       78\n",
      "54       69\n",
      "55       27\n",
      "56       19\n",
      "57       24\n",
      "58       46\n",
      "59       21\n",
      "60       18\n",
      "61        8\n",
      "62       11\n",
      "63        6\n",
      "64       10\n",
      "65       16\n",
      "66        3\n",
      "67        6\n",
      "68        6\n",
      "69       11\n",
      "70        4\n",
      "71       31\n",
      "72       10\n",
      "73        1\n",
      "74       11\n",
      "75       58\n",
      "76       10\n",
      "77        3\n",
      "78        2\n",
      "79       15\n",
      "80        1\n",
      "84        6\n",
      "85       11\n",
      "89        1\n",
      "90        3\n",
      "92        6\n",
      "100       2\n",
      "102       1\n",
      "109     137\n",
      "110     582\n",
      "111     452\n",
      "112    3176\n",
      "113     718\n",
      "114    1266\n",
      "115     625\n",
      "116     754\n",
      "117     410\n",
      "118     618\n",
      "119     598\n",
      "120     373\n",
      "121     243\n",
      "122     194\n",
      "123     251\n",
      "124     156\n",
      "125     315\n",
      "126     213\n",
      "127     231\n",
      "128     106\n",
      "129     161\n",
      "130     234\n",
      "131     140\n",
      "132     106\n",
      "133     149\n",
      "134      32\n",
      "135      73\n",
      "136     136\n",
      "137      95\n",
      "138     313\n",
      "139     877\n",
      "140     265\n",
      "141     805\n",
      "142     392\n",
      "143     257\n",
      "144     143\n",
      "145     302\n",
      "146     235\n",
      "147     150\n",
      "148     105\n",
      "149      55\n",
      "150     173\n",
      "151      98\n",
      "152      89\n",
      "153     157\n",
      "154     124\n",
      "155      92\n",
      "156      57\n",
      "157     135\n",
      "158      94\n",
      "159      73\n",
      "160     168\n",
      "161      47\n",
      "162      43\n",
      "163      84\n",
      "164      71\n",
      "165      86\n",
      "166      87\n",
      "167      84\n",
      "168      54\n",
      "169      66\n",
      "170     136\n",
      "171      38\n",
      "172      46\n",
      "173      36\n",
      "174      35\n",
      "175      26\n",
      "176      18\n",
      "177      29\n",
      "178      33\n",
      "179      43\n",
      "180      12\n",
      "181       5\n",
      "182      22\n",
      "183      19\n",
      "184      51\n",
      "185      20\n",
      "186       9\n",
      "187      15\n",
      "188      11\n",
      "189       5\n",
      "190       1\n",
      "191       4\n",
      "192       3\n",
      "193       4\n",
      "194       1\n",
      "195       4\n",
      "196      10\n",
      "197       5\n",
      "198       2\n",
      "199       4\n",
      "200      13\n",
      "201       1\n",
      "202       1\n",
      "205       2\n",
      "206       7\n",
      "207       4\n",
      "209      14\n",
      "210       7\n",
      "211       3\n",
      "212       1\n",
      "213       1\n",
      "214       3\n",
      "219      76\n",
      "220     407\n",
      "221      51\n",
      "222     533\n",
      "223      65\n",
      "224     148\n",
      "225      29\n",
      "226      55\n",
      "227      27\n",
      "228      38\n",
      "229      25\n",
      "230      25\n",
      "231      28\n",
      "232      24\n",
      "233      55\n",
      "234      71\n",
      "235      13\n",
      "236      19\n",
      "237      66\n",
      "238      47\n",
      "239      34\n",
      "240      32\n",
      "241      50\n",
      "242      22\n",
      "243      51\n",
      "244      12\n",
      "245      19\n",
      "246      50\n",
      "247     260\n",
      "248     117\n",
      "249     233\n",
      "250     102\n",
      "251      45\n",
      "252      49\n",
      "253      69\n",
      "254      31\n",
      "255      28\n",
      "256      13\n",
      "257      18\n",
      "258      41\n",
      "259      12\n",
      "260      39\n",
      "261      99\n",
      "262      52\n",
      "263      33\n",
      "264      20\n",
      "265      73\n",
      "266      29\n",
      "267      36\n",
      "268      43\n",
      "269      13\n",
      "270      23\n",
      "271       6\n",
      "272       9\n",
      "273      25\n",
      "274      70\n",
      "275      38\n",
      "276      67\n",
      "277      18\n",
      "278      45\n",
      "279      12\n",
      "280      18\n",
      "281      13\n",
      "282      11\n",
      "283      14\n",
      "284       7\n",
      "285      28\n",
      "286       8\n",
      "287       6\n",
      "288      53\n",
      "289      10\n",
      "290      11\n",
      "291       3\n",
      "292      22\n",
      "293       2\n",
      "294      10\n",
      "295      10\n",
      "296       8\n",
      "297       8\n",
      "298      10\n",
      "299      25\n",
      "300      12\n",
      "301       6\n",
      "302      10\n",
      "303       7\n",
      "304      14\n",
      "305      31\n",
      "306       3\n",
      "307       4\n",
      "308       2\n",
      "309       1\n",
      "310       6\n",
      "311       2\n",
      "312       1\n",
      "313       8\n",
      "317       4\n",
      "318       1\n",
      "319       7\n",
      "320       3\n",
      "321       2\n",
      "324       1\n",
      "329       1\n",
      "330     215\n",
      "332      19\n",
      "333       8\n",
      "335       6\n",
      "336       1\n",
      "337      24\n",
      "338       4\n",
      "339      23\n",
      "340      18\n",
      "341      19\n",
      "342      15\n",
      "343       6\n",
      "344      17\n",
      "345      13\n",
      "346      10\n",
      "347      24\n",
      "348       3\n",
      "349       9\n",
      "350       3\n",
      "351       8\n",
      "352       6\n",
      "353       1\n",
      "354       5\n",
      "356      57\n",
      "357      27\n",
      "358       5\n",
      "359       3\n",
      "360      19\n",
      "361      11\n",
      "362       7\n",
      "363      16\n",
      "364      13\n",
      "365       4\n",
      "366      11\n",
      "367       9\n",
      "368       5\n",
      "369       7\n",
      "370      12\n",
      "371      18\n",
      "372      19\n",
      "373      17\n",
      "374       5\n",
      "375       8\n",
      "376       8\n",
      "377       3\n",
      "378       6\n",
      "379       2\n",
      "380       7\n",
      "381       6\n",
      "382       8\n",
      "383       1\n",
      "384       5\n",
      "386       2\n",
      "387       4\n",
      "388      10\n",
      "389       5\n",
      "390       6\n",
      "391       6\n",
      "393      10\n",
      "395       4\n",
      "396      13\n",
      "397       2\n",
      "399       2\n",
      "400       7\n",
      "402       1\n",
      "403       3\n",
      "404       1\n",
      "405       1\n",
      "406       3\n",
      "407       9\n",
      "409       6\n",
      "410       3\n",
      "411       4\n",
      "412       1\n",
      "413       2\n",
      "414       1\n",
      "415       1\n",
      "417       3\n",
      "418       4\n",
      "420       1\n",
      "423       3\n",
      "425       1\n",
      "432       1\n",
      "434       2\n",
      "436       1\n",
      "443       2\n",
      "445       1\n",
      "447       3\n",
      "448       7\n",
      "449       9\n",
      "450       2\n",
      "451       1\n",
      "452       5\n",
      "454       6\n",
      "455       2\n",
      "460       1\n",
      "464       1\n",
      "465       1\n",
      "470       3\n",
      "473       1\n",
      "474       1\n",
      "475       4\n",
      "476       2\n",
      "478       1\n",
      "479       1\n",
      "481       2\n",
      "482       2\n",
      "487       1\n",
      "488       3\n",
      "489       2\n",
      "492       1\n",
      "495       5\n",
      "499       2\n",
      "501       1\n",
      "502       7\n",
      "503       1\n",
      "504       1\n",
      "505       3\n",
      "506       3\n",
      "507       3\n",
      "518       1\n",
      "524       1\n",
      "534       1\n",
      "612       1\n",
      "613       1\n",
      "639       1\n",
      "640       1\n"
     ]
    }
   ],
   "source": [
    "count_executing = executing_df_info_by_file_test_only['file'].value_counts().value_counts().sort_index()\n",
    "print (count_executing.to_string())"
   ]
  },
  {
   "cell_type": "code",
   "execution_count": 11,
   "metadata": {
    "collapsed": true
   },
   "outputs": [],
   "source": [
    "executing_df_indexed =  executing_df.groupby('datetime')['count_test','count_others'].sum()\n",
    "executing_df_indexed_minutes = executing_df_indexed.resample(\"1Min\").sum().dropna()\n",
    "executing_df_indexed_hours = executing_df_indexed.resample(\"1H\").sum().dropna()"
   ]
  },
  {
   "cell_type": "code",
   "execution_count": 12,
   "metadata": {},
   "outputs": [
    {
     "data": {
      "text/html": [
       "<iframe id=\"igraph\" scrolling=\"no\" style=\"border:none;\" seamless=\"seamless\" src=\"https://plot.ly/~daugo/21.embed\" height=\"525px\" width=\"100%\"></iframe>"
      ],
      "text/plain": [
       "<plotly.tools.PlotlyDisplay object>"
      ]
     },
     "execution_count": 12,
     "metadata": {},
     "output_type": "execute_result"
    }
   ],
   "source": [
    "executing_df_indexed_minutes.iplot(kind='bar', filename = \"executing_bar_min_\" + site, xTitle = \"date-time\", yTitle = \"Number of files\", title = \"Executing actions for \" + site + \" (grouped by minutes [bin size = 1 Min] )\"  )\n"
   ]
  },
  {
   "cell_type": "code",
   "execution_count": 13,
   "metadata": {},
   "outputs": [
    {
     "data": {
      "text/html": [
       "<iframe id=\"igraph\" scrolling=\"no\" style=\"border:none;\" seamless=\"seamless\" src=\"https://plot.ly/~daugo/23.embed\" height=\"525px\" width=\"100%\"></iframe>"
      ],
      "text/plain": [
       "<plotly.tools.PlotlyDisplay object>"
      ]
     },
     "execution_count": 13,
     "metadata": {},
     "output_type": "execute_result"
    }
   ],
   "source": [
    "executing_df_indexed_hours.iplot(kind='bar', filename = \"executing_bar_hours_\" + site , xTitle = \"date-time\", yTitle = \"Number of files\", title = \"Executing actions for \" + site + \" (grouped by hours [bin size = 1 Hr] )\" )\n"
   ]
  },
  {
   "cell_type": "code",
   "execution_count": 14,
   "metadata": {},
   "outputs": [
    {
     "name": "stdout",
     "output_type": "stream",
     "text": [
      "1 => /BprimeBprime_M-1000_TuneCUETP8M1_13TeV-madgraph-pythia8/RunIISummer15GS-MCRUN2_71_V1-v1/GEN-SIM\n",
      "2 => /DY1JetsToLL_M-10to50_TuneCUETP8M1_13TeV-amcatnloFXFX-pythia8/RunIISummer15GS-MCRUN2_71_V1-v1/GEN-SIM\n",
      "3 => /DYJetsToLL_Zpt-200toInf_M-50_TuneCUETP8M1_13TeV-madgraphMLM-pythia8/RunIISummer15wmLHEGS-MCRUN2_71_V1_ext1-v1/GEN-SIM\n",
      "4 => /GJets_DR-0p4_HT-600ToInf_TuneCUETP8M1_13TeV-madgraphMLM-pythia8/RunIISummer15GS-magnetOffBS0T_MCRUN2_71_V1-v1/GEN-SIM\n",
      "5 => /MuMuG_PTG10To13000_MMuMu50_13TeV_sherpa/RunIISummer15GS-MCRUN2_71_V1-v2/GEN-SIM\n",
      "6 => /QCD_Pt-15to3000_TuneCUETP8M1_Flat_13TeV-pythia8/RunIISummer15GS-castor_MCRUN2_71_V1-v1/GEN-SIM\n",
      "7 => /QCD_Pt_1000to1400_TuneCUETP8M1_13TeV_pythia8/PhaseIFall16GS-81X_upgrade2017_realistic_v26-v1/GEN-SIM\n",
      "8 => /ST_FCNC-TA_Tleptonic_kappa_act-MadGraph5-pythia8/RunIISummer15wmLHEGS-MCRUN2_71_V1-v1/GEN-SIM\n",
      "9 => /ST_t-channel_4f_mtop1755_leptonDecays_13TeV-amcatnlo-pythia8_TuneCUETP8M1/RunIISummer15GS-MCRUN2_71_V1-v1/GEN-SIM\n",
      "10 => /ST_t-channel_antitop_4f_leptonDecays_13TeV-powheg-pythia8_TuneCUETP8M1/RunIISummer15GS-MCRUN2_71_V1-v1/GEN-SIM\n",
      "11 => /ST_tW_antitop_5f_NoFullyHadronicDecays_13TeV-powheg_TuneCUETP8M1/RunIISummer15wmLHEGS-MCRUN2_71_V1_ext1-v1/GEN-SIM\n",
      "12 => /TTGamma_Dilept_TuneCUETP8M2T4_13TeV-amcatnlo-pythia8/RunIISummer15wmLHEGS-MCRUN2_71_V1-v2/GEN-SIM\n",
      "13 => /TTGamma_SingleLeptFromTbar_TuneCUETP8M2T4_13TeV-amcatnlo-fsrdown-pythia8-pythia8/RunIISummer15wmLHEGS-MCRUN2_71_V1-v1/GEN-SIM\n",
      "14 => /TTJets_DiLept_genMET-150_TuneCUETP8M1_13TeV-madgraphMLM-pythia8/RunIISummer15wmLHEGS-MCRUN2_71_V1-v1/GEN-SIM\n",
      "15 => /TTTo2L2Nu_noSC_TuneCUETP8M1_alphaS01273_13TeV-powheg-pythia8/RunIISummer15GS-MCRUN2_71_V1-v1/GEN-SIM\n",
      "16 => /TTZToLLNuNu_M-10_TuneCUETP8M1_13TeV-amcatnlo-pythia8/RunIISummer15wmLHEGS-MCRUN2_71_V1_ext2-v1/GEN-SIM\n",
      "17 => /TT_TuneCUETP8M1_mtop1785_13TeV-powheg-pythia8/RunIISummer15GS-MCRUN2_71_V1-v1/GEN-SIM\n",
      "18 => /TT_TuneCUETP8M2T4_13TeV-powheg-pythia8-evtgen/RunIISummer15wmLHEGS-MCRUN2_71_V1-v1/GEN-SIM\n",
      "19 => /TT_TuneCUETP8M2T4_mtop1735_13TeV-powheg-pythia8/RunIISummer15wmLHEGS-MCRUN2_71_V1-v1/GEN-SIM\n",
      "20 => /TT_widthx4_TuneCUETP8M1_13TeV-powheg-pythia8/RunIISummer15wmLHEGS-MCRUN2_71_V1-v1/GEN-SIM\n",
      "21 => /Vector_MonoTop_NLO_Mphi-200_Mchi-10_gSM-0p25_gDM-1p0_13TeV-madgraph/RunIISummer15wmLHEGS-MCRUN2_71_V1-v1/GEN-SIM\n",
      "22 => /Vector_MonoTop_NLO_Mphi-2500_Mchi-500_gSM-0p25_gDM-1p0_13TeV-madgraph/RunIISummer15wmLHEGS-MCRUN2_71_V1-v1/GEN-SIM\n",
      "23 => /WGToLNuG_PtG-500_TuneCUETP8M1_13TeV-amcatnloFXFX-pythia8/RunIISummer15wmLHEGS-MCRUN2_71_V1-v1/GEN-SIM\n",
      "24 => /WJetsToLNu_Wpt-200toInf_TuneCUETP8M1_13TeV-madgraphMLM-pythia8/RunIISummer15wmLHEGS-MCRUN2_71_V1_ext1-v1/GEN-SIM\n",
      "25 => /WplusToENu_NNPDF30_TuneEE5C_13TeV-powheg-herwigpp/RunIISummer15wmLHEGS-MCRUN2_71_V1-v2/GEN-SIM\n",
      "26 => /ZBJetsToNuNu_Zpt-200toInf_TuneCUETP8M1_13TeV-madgraphMLM-pythia8/RunIISummer15wmLHEGS-MCRUN2_71_V1_ext1-v1/GEN-SIM\n",
      "27 => /ZH_HToBB_ZToNuNu_M125_13TeV_powheg_pythia8/PhaseIFall16wmLHEGS-81X_upgrade2017_realistic_v26-v1/GEN-SIM\n",
      "28 => /ggZH_HToBB_ZToNuNu_M125_13TeV_powheg_pythia8/RunIISummer15GS-MCRUN2_71_V1_ext2-v1/GEN-SIM\n",
      "29 => /ttHJetTobb_M125_13TeV_amcatnloFXFX_madspin_pythia8/RunIISummer15GS-MCRUN2_71_V1_ext3-v1/GEN-SIM\n",
      "30 => /ttH_M125_13TeV_powheg_pythia8/RunIISummer15GS-MCRUN2_71_V1-v1/GEN-SIM\n",
      "31 => datetime\n"
     ]
    }
   ],
   "source": [
    "#STAGED\n",
    "staged_df = data_df[data_df['action'].str.contains(\"STAGED\")]\n",
    "staged_df['file'] = staged_df['action'].apply(parse_staged)\n",
    "staged_df['dataset'] = staged_df['file'].apply (dataset_from_file)\n",
    "staged_df['count'] = 1\n",
    "staged_df['count_test'] = staged_df['file'].apply(file_from_test, files_test_set=files_test_set)\n",
    "staged_df['count_others'] = staged_df['count'] - staged_df['count_test']\n",
    "\n",
    "staged_test_only_df = staged_df[staged_df['count_test'] > 0]\n",
    "staged_test_only_df_pivot = staged_test_only_df.pivot(columns='dataset', values='count_test')\n",
    "staged_test_only_df_pivot['datetime'] = staged_test_only_df['datetime']\n",
    "\n",
    "for idx, dataset in enumerate(staged_test_only_df_pivot.columns):\n",
    "    print (str(idx+1)  + \" => \" + dataset)\n",
    "\n",
    "datasets_rename = range(1,len(staged_test_only_df_pivot.columns))\n",
    "datasets_rename= [str(x) for x in datasets_rename]\n",
    "datasets_rename.append('datetime')\n",
    "staged_test_only_df_pivot.columns = datasets_rename\n",
    "staged_test_only_df_pivot_indexed = staged_test_only_df_pivot.groupby('datetime')[datasets_rename[:-1]].sum()\n",
    "staged_test_only_df_pivot_indexed_minutes = staged_test_only_df_pivot_indexed.resample(\"1Min\").sum().dropna(how='all')\n",
    "staged_test_only_df_pivot_indexed_hours = staged_test_only_df_pivot_indexed.resample(\"1H\").sum().dropna(how='all')"
   ]
  },
  {
   "cell_type": "code",
   "execution_count": 15,
   "metadata": {},
   "outputs": [
    {
     "name": "stdout",
     "output_type": "stream",
     "text": [
      "The draw time for this plot will be slow for all clients.\n"
     ]
    },
    {
     "name": "stderr",
     "output_type": "stream",
     "text": [
      "/Users/davidurbina/anaconda/lib/python2.7/site-packages/plotly/api/v1/clientresp.py:40: UserWarning:\n",
      "\n",
      "Estimated Draw Time Too Long\n",
      "\n"
     ]
    },
    {
     "data": {
      "text/html": [
       "<iframe id=\"igraph\" scrolling=\"no\" style=\"border:none;\" seamless=\"seamless\" src=\"https://plot.ly/~daugo/42.embed\" height=\"525px\" width=\"100%\"></iframe>"
      ],
      "text/plain": [
       "<plotly.tools.PlotlyDisplay object>"
      ]
     },
     "execution_count": 15,
     "metadata": {},
     "output_type": "execute_result"
    }
   ],
   "source": [
    "staged_test_only_df_pivot_indexed_minutes.iplot(kind='scatter', filename = \"staged_scatter_perDatasets_minutes_\" + site, xTitle = \"date-time\", yTitle = \"Number of files\", title = \"STAGED action for \" + site + \" (grouped by minutes for each test dataset [bin size = 1 Min] )\" )\n"
   ]
  },
  {
   "cell_type": "code",
   "execution_count": 16,
   "metadata": {},
   "outputs": [
    {
     "name": "stdout",
     "output_type": "stream",
     "text": [
      "The draw time for this plot will be slow for all clients.\n"
     ]
    },
    {
     "data": {
      "text/html": [
       "<iframe id=\"igraph\" scrolling=\"no\" style=\"border:none;\" seamless=\"seamless\" src=\"https://plot.ly/~daugo/42.embed\" height=\"525px\" width=\"100%\"></iframe>"
      ],
      "text/plain": [
       "<plotly.tools.PlotlyDisplay object>"
      ]
     },
     "execution_count": 16,
     "metadata": {},
     "output_type": "execute_result"
    }
   ],
   "source": [
    "staged_test_only_df_pivot_indexed_minutes.iplot(kind='scatter', filename = \"staged_scatter_perDatasets_minutes_\" + site, xTitle = \"date-time\", yTitle = \"Number of files\", title = \"STAGED action for \" + site + \" (grouped by minutes for each test dataset [bin size = 1 Min] )\" )\n"
   ]
  },
  {
   "cell_type": "code",
   "execution_count": 17,
   "metadata": {
    "collapsed": true
   },
   "outputs": [],
   "source": [
    "staged_df_indexed = staged_df.groupby('datetime')['count_test', 'count_others'].sum()\n",
    "staged_df_indexed_minutes = staged_df_indexed.resample(\"1Min\").sum().dropna()\n",
    "staged_df_indexed_hours = staged_df_indexed.resample(\"1H\").sum().dropna()\n"
   ]
  },
  {
   "cell_type": "code",
   "execution_count": 18,
   "metadata": {},
   "outputs": [
    {
     "data": {
      "text/html": [
       "<iframe id=\"igraph\" scrolling=\"no\" style=\"border:none;\" seamless=\"seamless\" src=\"https://plot.ly/~daugo/25.embed\" height=\"525px\" width=\"100%\"></iframe>"
      ],
      "text/plain": [
       "<plotly.tools.PlotlyDisplay object>"
      ]
     },
     "execution_count": 18,
     "metadata": {},
     "output_type": "execute_result"
    }
   ],
   "source": [
    "staged_df_indexed_minutes.iplot(kind='bar', filename = \"staged_bar_min_\" + site, xTitle = \"date-time\", yTitle = \"Number of files\", title = \"STAGED action for \" + site + \" (grouped by minutes [bin size = 1 Min] )\" )\n"
   ]
  },
  {
   "cell_type": "code",
   "execution_count": 19,
   "metadata": {},
   "outputs": [
    {
     "data": {
      "text/html": [
       "<iframe id=\"igraph\" scrolling=\"no\" style=\"border:none;\" seamless=\"seamless\" src=\"https://plot.ly/~daugo/27.embed\" height=\"525px\" width=\"100%\"></iframe>"
      ],
      "text/plain": [
       "<plotly.tools.PlotlyDisplay object>"
      ]
     },
     "execution_count": 19,
     "metadata": {},
     "output_type": "execute_result"
    }
   ],
   "source": [
    "staged_df_indexed_hours.iplot(kind='bar', filename = \"staged_bar_hours_\" + site, xTitle = \"date-time\", yTitle = \"Number of files\", title = \"STAGED action for \" + site + \" (grouped by hours [bin size = 1 Hr] )\" )\n"
   ]
  },
  {
   "cell_type": "code",
   "execution_count": 20,
   "metadata": {},
   "outputs": [
    {
     "name": "stdout",
     "output_type": "stream",
     "text": [
      "1     3196\n",
      "2    53372\n",
      "3       29\n"
     ]
    }
   ],
   "source": [
    "count_staging = staged_test_only_df['file'].value_counts().value_counts().sort_index()\n",
    "print (count_staging.to_string())\n"
   ]
  }
 ],
 "metadata": {
  "kernelspec": {
   "display_name": "Python 2",
   "language": "python",
   "name": "python2"
  },
  "language_info": {
   "codemirror_mode": {
    "name": "ipython",
    "version": 2
   },
   "file_extension": ".py",
   "mimetype": "text/x-python",
   "name": "python",
   "nbconvert_exporter": "python",
   "pygments_lexer": "ipython2",
   "version": "2.7.12"
  }
 },
 "nbformat": 4,
 "nbformat_minor": 2
}
